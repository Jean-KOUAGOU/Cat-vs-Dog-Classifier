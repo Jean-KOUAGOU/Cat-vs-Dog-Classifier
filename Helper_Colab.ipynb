{
  "nbformat": 4,
  "nbformat_minor": 0,
  "metadata": {
    "kernelspec": {
      "name": "python3",
      "display_name": "Python 3"
    },
    "language_info": {
      "codemirror_mode": {
        "name": "ipython",
        "version": 3
      },
      "file_extension": ".py",
      "mimetype": "text/x-python",
      "name": "python",
      "nbconvert_exporter": "python",
      "pygments_lexer": "ipython3",
      "version": "3.7.4"
    },
    "colab": {
      "name": "Helper_Colab.ipynb",
      "provenance": [],
      "toc_visible": true,
      "include_colab_link": true
    },
    "accelerator": "GPU"
  },
  "cells": [
    {
      "cell_type": "markdown",
      "metadata": {
        "id": "view-in-github",
        "colab_type": "text"
      },
      "source": [
        "<a href=\"https://colab.research.google.com/github/Kabongosalomon/Cat-vs-Dog-Classifier/blob/master/Helper_Colab.ipynb\" target=\"_parent\"><img src=\"https://colab.research.google.com/assets/colab-badge.svg\" alt=\"Open In Colab\"/></a>"
      ]
    },
    {
      "cell_type": "markdown",
      "metadata": {
        "id": "Ib2RuhjdTgA7",
        "colab_type": "text"
      },
      "source": [
        "## Load My data"
      ]
    },
    {
      "cell_type": "code",
      "metadata": {
        "id": "IjFmEAGZaM1Q",
        "colab_type": "code",
        "outputId": "c082f7a9-70db-4b3c-c6ca-9f88e8b9c07f",
        "colab": {
          "base_uri": "https://localhost:8080/",
          "height": 116
        }
      },
      "source": [
        "! git clone https://github.com/Kabongosalomon/Cat-vs-Dog-Classifier.git"
      ],
      "execution_count": 1,
      "outputs": [
        {
          "output_type": "stream",
          "text": [
            "Cloning into 'Cat-vs-Dog-Classifier'...\n",
            "remote: Enumerating objects: 64, done.\u001b[K\n",
            "remote: Counting objects: 100% (64/64), done.\u001b[K\n",
            "remote: Compressing objects: 100% (49/49), done.\u001b[K\n",
            "remote: Total 64 (delta 24), reused 46 (delta 13), pack-reused 0\u001b[K\n",
            "Unpacking objects: 100% (64/64), done.\n"
          ],
          "name": "stdout"
        }
      ]
    },
    {
      "cell_type": "code",
      "metadata": {
        "id": "DykkqJtnTfjO",
        "colab_type": "code",
        "outputId": "85fe5971-969e-4ae8-b4fd-7e601f816907",
        "colab": {
          "base_uri": "https://localhost:8080/",
          "height": 66
        }
      },
      "source": [
        "# Loaf helper file\n",
        "link = \"https://drive.google.com/file/d/1Cn0B9Zr2irUnZcHqODT9IilGHf9fZ61R/view?usp=sharing\"\n",
        "\n",
        "_, id_t = link.split('d/')\n",
        "\n",
        "id = id_t.split('/')[0]\n",
        "\n",
        "print (\"Loading file ...\")\n",
        "\n",
        "print (id) # Verify that you have everything after '='\n",
        "\n",
        "# Install the PyDrive wrapper & import libraries.\n",
        "# This only needs to be done once per notebook.\n",
        "!pip install -U -q PyDrive\n",
        "from pydrive.auth import GoogleAuth\n",
        "from pydrive.drive import GoogleDrive\n",
        "from google.colab import auth\n",
        "from oauth2client.client import GoogleCredentials\n",
        "\n",
        "# Authenticate and create the PyDrive client.\n",
        "# This only needs to be done once per notebook.\n",
        "auth.authenticate_user()\n",
        "gauth = GoogleAuth()\n",
        "gauth.credentials = GoogleCredentials.get_application_default()\n",
        "drive = GoogleDrive(gauth)\n",
        "\n",
        "\n",
        "file_id = id\n",
        "downloaded = drive.CreateFile({'id':file_id})\n",
        "downloaded.FetchMetadata(fetch_all=True)\n",
        "downloaded.GetContentFile(downloaded.metadata['title'])\n",
        "print (\"Completed\")"
      ],
      "execution_count": 2,
      "outputs": [
        {
          "output_type": "stream",
          "text": [
            "Loading file ...\n",
            "1Cn0B9Zr2irUnZcHqODT9IilGHf9fZ61R\n",
            "Completed\n"
          ],
          "name": "stdout"
        }
      ]
    },
    {
      "cell_type": "code",
      "metadata": {
        "id": "RKAP16FxTosl",
        "colab_type": "code",
        "outputId": "7136999e-ef9a-4a9c-af47-41d262557934",
        "colab": {
          "base_uri": "https://localhost:8080/",
          "height": 33
        }
      },
      "source": [
        "!ls"
      ],
      "execution_count": 3,
      "outputs": [
        {
          "output_type": "stream",
          "text": [
            "adc.json  Cat_Dog_data.zip  Cat-vs-Dog-Classifier  sample_data\n"
          ],
          "name": "stdout"
        }
      ]
    },
    {
      "cell_type": "markdown",
      "metadata": {
        "id": "bJgyEhYbaHFI",
        "colab_type": "text"
      },
      "source": [
        "## Pre-process"
      ]
    },
    {
      "cell_type": "code",
      "metadata": {
        "id": "z3VH7mUFWl5H",
        "colab_type": "code",
        "colab": {}
      },
      "source": [
        "!unzip -q Cat_Dog_data.zip                        # Unzip the downloaded file \n",
        "!mkdir ./Cat-vs-Dog-Classifier/data               # Create a data directory \n",
        "!cp -r Cat_Dog_data/ Cat-vs-Dog-Classifier/data/  # Copy the unziped file in the created repository\n",
        "!rm -r  ./Cat_Dog_data/                           # Remove Both the unziped file\n",
        "!rm -r  ./Cat_Dog_data.zip                        # Remove Both the zip file\n",
        "!rm adc.json"
      ],
      "execution_count": 0,
      "outputs": []
    },
    {
      "cell_type": "markdown",
      "metadata": {
        "id": "wKXVTgPMajuC",
        "colab_type": "text"
      },
      "source": [
        "## Runing the main.py"
      ]
    },
    {
      "cell_type": "code",
      "metadata": {
        "id": "CjDkPqctbufP",
        "colab_type": "code",
        "colab": {}
      },
      "source": [
        "import os \n",
        "os.chdir(\"Cat-vs-Dog-Classifier\") # Thanks to https://stackoverflow.com/questions/37644441/python-run-script-in-all-subdirectories/37644536"
      ],
      "execution_count": 0,
      "outputs": []
    },
    {
      "cell_type": "code",
      "metadata": {
        "id": "ISYLZQVdcwYS",
        "colab_type": "code",
        "outputId": "b2bf2747-8dc2-49e3-bb2c-78872e7d3ca6",
        "colab": {
          "base_uri": "https://localhost:8080/",
          "height": 33
        }
      },
      "source": [
        "!ls -a data/Cat_Dog_data/train"
      ],
      "execution_count": 7,
      "outputs": [
        {
          "output_type": "stream",
          "text": [
            ".  ..  cat  dog\n"
          ],
          "name": "stdout"
        }
      ]
    },
    {
      "cell_type": "code",
      "metadata": {
        "id": "rjKJC78nZ045",
        "colab_type": "code",
        "outputId": "e2e16fe6-8cf9-44c6-e2df-e1682a333b70",
        "colab": {
          "base_uri": "https://localhost:8080/",
          "height": 583
        }
      },
      "source": [
        "# Train on CNN_classifier_1\n",
        "# !CUDA_LAUNCH_BLOCKING=1 python main.py # used many for debug purpose\n",
        "! python main.py"
      ],
      "execution_count": 8,
      "outputs": [
        {
          "output_type": "stream",
          "text": [
            "yupiii we are on GPU :)\n",
            "CNN_Classifier_1(\n",
            "  (conv1): Conv2d(3, 32, kernel_size=(3, 3), stride=(2, 2), padding=(1, 1))\n",
            "  (conv2): Conv2d(32, 64, kernel_size=(3, 3), stride=(2, 2), padding=(1, 1))\n",
            "  (conv3): Conv2d(64, 128, kernel_size=(3, 3), stride=(1, 1), padding=(1, 1))\n",
            "  (pool): MaxPool2d(kernel_size=2, stride=2, padding=0, dilation=1, ceil_mode=False)\n",
            "  (fc1): Linear(in_features=6272, out_features=500, bias=True)\n",
            "  (fc2): Linear(in_features=500, out_features=2, bias=True)\n",
            "  (dropout): Dropout(p=0.3, inplace=False)\n",
            ")\n",
            "Training ....\n",
            "Epoch     1 | LossA: 0.6914(+0.0000%) \u001b[0m\t| LossB: 0.6877(+0.0000%) \u001b[0m\t\n",
            "Validation loss decreased (inf --> 0.687688).  Saving model ...\n",
            "Epoch     2 | LossA: \u001b[91m0.6847(-0.9642%) ▼\u001b[0m\t| LossB: \u001b[91m0.6759(-1.7071%) ▼\u001b[0m\t\n",
            "Validation loss decreased (0.687688 --> 0.675949).  Saving model ...\n",
            "Epoch     3 | LossA: \u001b[91m0.6750(-1.4149%) ▼\u001b[0m\t| LossB: \u001b[32m0.7554(+11.7497%) \u001b[0m\t\n",
            "Epoch     4 | LossA: \u001b[91m0.6602(-2.1985%) ▼\u001b[0m\t| LossB: \u001b[91m0.6542(-13.3947%) \u001b[0m\t\n",
            "Validation loss decreased (0.675949 --> 0.654191).  Saving model ...\n",
            "Epoch     5 | LossA: \u001b[91m0.6497(-1.5942%) ▼\u001b[0m\t| LossB: \u001b[91m0.6324(-3.3331%) ▼\u001b[0m\t\n",
            "Validation loss decreased (0.654191 --> 0.632386).  Saving model ...\n",
            "Epoch     6 | LossA: \u001b[91m0.6334(-2.4983%) ▼\u001b[0m\t| LossB: \u001b[91m0.6320(-0.0554%) ▼\u001b[0m\t\n",
            "Validation loss decreased (0.632386 --> 0.632036).  Saving model ...\n",
            "Epoch     7 | LossA: \u001b[91m0.6164(-2.6817%) ▼\u001b[0m\t| LossB: \u001b[91m0.6038(-4.4683%) ▼\u001b[0m\t\n",
            "Validation loss decreased (0.632036 --> 0.603795).  Saving model ...\n",
            "Epoch     8 | LossA: \u001b[91m0.6070(-1.5286%) ▼\u001b[0m\t| LossB: \u001b[91m0.5977(-1.0033%) ▼\u001b[0m\t\n",
            "Validation loss decreased (0.603795 --> 0.597737).  Saving model ...\n",
            "Epoch     9 | LossA: \u001b[91m0.5931(-2.3007%) ▼\u001b[0m\t| LossB: \u001b[32m0.6704(+12.1578%) \u001b[0m\t\n",
            "Epoch    10 | LossA: \u001b[91m0.5874(-0.9455%) ▼\u001b[0m\t| LossB: \u001b[91m0.5873(-12.3900%) \u001b[0m\t\n",
            "Validation loss decreased (0.597737 --> 0.587345).  Saving model ...\n",
            "Testing ....\n",
            "Test Loss: 0.583126\n",
            "\n",
            "\n",
            "Test Accuracy: 68% (12404/18000)\n"
          ],
          "name": "stdout"
        }
      ]
    },
    {
      "cell_type": "code",
      "metadata": {
        "id": "9px2B_ORPUf4",
        "colab_type": "code",
        "outputId": "58d13037-5cb8-4b77-8ab3-12ea69984a3c",
        "colab": {
          "base_uri": "https://localhost:8080/",
          "height": 600
        }
      },
      "source": [
        "# Train on CNN_classifier_2\n",
        "# !CUDA_LAUNCH_BLOCKING=1 python main.py # used many for debug purpose\n",
        "! python main.py"
      ],
      "execution_count": 9,
      "outputs": [
        {
          "output_type": "stream",
          "text": [
            "yupiii we are on GPU :)\n",
            "CNN_Classifier_2(\n",
            "  (conv1): Conv2d(3, 32, kernel_size=(3, 3), stride=(2, 2), padding=(1, 1))\n",
            "  (conv2): Conv2d(32, 64, kernel_size=(3, 3), stride=(2, 2), padding=(1, 1))\n",
            "  (conv3): Conv2d(64, 128, kernel_size=(3, 3), stride=(1, 1), padding=(1, 1))\n",
            "  (conv4): Conv2d(128, 256, kernel_size=(3, 3), stride=(2, 2), padding=(1, 1))\n",
            "  (pool): MaxPool2d(kernel_size=2, stride=2, padding=0, dilation=1, ceil_mode=False)\n",
            "  (fc1): Linear(in_features=1024, out_features=500, bias=True)\n",
            "  (fc2): Linear(in_features=500, out_features=2, bias=True)\n",
            "  (dropout): Dropout(p=0.3, inplace=False)\n",
            ")\n",
            "Training ....\n",
            "Epoch     1 | LossA: 0.6932(+0.0000%) \u001b[0m\t| LossB: 0.6926(+0.0000%) \u001b[0m\t\n",
            "Validation loss decreased (inf --> 0.692566).  Saving model ...\n",
            "Epoch     2 | LossA: \u001b[91m0.6925(-0.0928%) ▼\u001b[0m\t| LossB: \u001b[91m0.6918(-0.1056%) ▼\u001b[0m\t\n",
            "Validation loss decreased (0.692566 --> 0.691835).  Saving model ...\n",
            "Epoch     3 | LossA: \u001b[91m0.6919(-0.0983%) ▼\u001b[0m\t| LossB: \u001b[91m0.6907(-0.1682%) ▼\u001b[0m\t\n",
            "Validation loss decreased (0.691835 --> 0.690671).  Saving model ...\n",
            "Epoch     4 | LossA: \u001b[91m0.6903(-0.2245%) ▼\u001b[0m\t| LossB: \u001b[32m0.6907(+0.0043%) ▲\u001b[0m\t\n",
            "Epoch     5 | LossA: \u001b[91m0.6857(-0.6700%) ▼\u001b[0m\t| LossB: \u001b[91m0.6779(-1.8601%) ▼\u001b[0m\t\n",
            "Validation loss decreased (0.690671 --> 0.677852).  Saving model ...\n",
            "Epoch     6 | LossA: \u001b[91m0.6794(-0.9199%) ▼\u001b[0m\t| LossB: \u001b[91m0.6744(-0.5113%) ▼\u001b[0m\t\n",
            "Validation loss decreased (0.677852 --> 0.674387).  Saving model ...\n",
            "Epoch     7 | LossA: \u001b[91m0.6705(-1.3111%) ▼\u001b[0m\t| LossB: \u001b[91m0.6590(-2.2849%) ▼\u001b[0m\t\n",
            "Validation loss decreased (0.674387 --> 0.658978).  Saving model ...\n",
            "Epoch     8 | LossA: \u001b[91m0.6616(-1.3170%) ▼\u001b[0m\t| LossB: \u001b[91m0.6571(-0.2822%) ▼\u001b[0m\t\n",
            "Validation loss decreased (0.658978 --> 0.657118).  Saving model ...\n",
            "Epoch     9 | LossA: \u001b[91m0.6542(-1.1185%) ▼\u001b[0m\t| LossB: \u001b[91m0.6431(-2.1408%) ▼\u001b[0m\t\n",
            "Validation loss decreased (0.657118 --> 0.643051).  Saving model ...\n",
            "Epoch    10 | LossA: \u001b[91m0.6454(-1.3514%) ▼\u001b[0m\t| LossB: \u001b[32m0.6498(+1.0498%) ▲\u001b[0m\t\n",
            "Testing ....\n",
            "Test Loss: 0.654617\n",
            "\n",
            "\n",
            "Test Accuracy: 60% (10979/18000)\n"
          ],
          "name": "stdout"
        }
      ]
    },
    {
      "cell_type": "markdown",
      "metadata": {
        "id": "NcV3cnBGPopr",
        "colab_type": "text"
      },
      "source": [
        "<h2>About the Authors:</h2> \n",
        "\n",
        "<a href=\"https://salomonkabongo.wixsite.com/datascientist\">Salomon Kabongo KABENAMUALU</a>, Master degree student at <a href=\"https://aimsammi.org/\">the African Masters in Machine Intelligence (AMMI Ghana)</a> his research focused on the use machine learning technique in the field of Natural Language Processing.\n",
        "\n",
        "Copyright &copy; 2020. This notebook and its source code are released under the terms of the <a href=\"https://www.apache.org/licenses/LICENSE-2.0\">Apache License 2.0</a>."
      ]
    }
  ]
}